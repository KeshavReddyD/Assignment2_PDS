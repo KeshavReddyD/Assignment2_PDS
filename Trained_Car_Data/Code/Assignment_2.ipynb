{
  "nbformat": 4,
  "nbformat_minor": 0,
  "metadata": {
    "colab": {
      "provenance": []
    },
    "kernelspec": {
      "name": "python3",
      "display_name": "Python 3"
    },
    "language_info": {
      "name": "python"
    }
  },
  "cells": [
    {
      "cell_type": "code",
      "execution_count": 89,
      "metadata": {
        "id": "umJ2WxfKvwEf",
        "colab": {
          "base_uri": "https://localhost:8080/",
          "height": 423
        },
        "outputId": "3f45e3ee-e280-4cea-b1dc-960fa140e346"
      },
      "outputs": [
        {
          "output_type": "execute_result",
          "data": {
            "text/plain": [
              "      Unnamed: 0                              Name    Location  Year  \\\n",
              "0              1  Hyundai Creta 1.6 CRDi SX Option        Pune  2015   \n",
              "1              2                      Honda Jazz V     Chennai  2011   \n",
              "2              3                 Maruti Ertiga VDI     Chennai  2012   \n",
              "3              4   Audi A4 New 2.0 TDI Multitronic  Coimbatore  2013   \n",
              "4              6            Nissan Micra Diesel XV      Jaipur  2013   \n",
              "...          ...                               ...         ...   ...   \n",
              "5842        6014                  Maruti Swift VDI       Delhi  2014   \n",
              "5843        6015          Hyundai Xcent 1.1 CRDi S      Jaipur  2015   \n",
              "5844        6016             Mahindra Xylo D4 BSIV      Jaipur  2012   \n",
              "5845        6017                Maruti Wagon R VXI     Kolkata  2013   \n",
              "5846        6018             Chevrolet Beat Diesel   Hyderabad  2011   \n",
              "\n",
              "      Kilometers_Driven Fuel_Type Transmission Owner_Type     Mileage  \\\n",
              "0                 41000    Diesel       Manual      First  19.67 kmpl   \n",
              "1                 46000    Petrol       Manual      First    13 km/kg   \n",
              "2                 87000    Diesel       Manual      First  20.77 kmpl   \n",
              "3                 40670    Diesel    Automatic     Second   15.2 kmpl   \n",
              "4                 86999    Diesel       Manual      First  23.08 kmpl   \n",
              "...                 ...       ...          ...        ...         ...   \n",
              "5842              27365    Diesel       Manual      First   28.4 kmpl   \n",
              "5843             100000    Diesel       Manual      First   24.4 kmpl   \n",
              "5844              55000    Diesel       Manual     Second   14.0 kmpl   \n",
              "5845              46000    Petrol       Manual      First   18.9 kmpl   \n",
              "5846              47000    Diesel       Manual      First  25.44 kmpl   \n",
              "\n",
              "       Engine      Power  Seats  New_Price  Price  \n",
              "0     1582 CC  126.2 bhp    5.0        NaN  12.50  \n",
              "1     1199 CC   88.7 bhp    5.0  8.61 Lakh   4.50  \n",
              "2     1248 CC  88.76 bhp    7.0        NaN   6.00  \n",
              "3     1968 CC  140.8 bhp    5.0        NaN  17.74  \n",
              "4     1461 CC   63.1 bhp    5.0        NaN   3.50  \n",
              "...       ...        ...    ...        ...    ...  \n",
              "5842  1248 CC     74 bhp    5.0  7.88 Lakh   4.75  \n",
              "5843  1120 CC     71 bhp    5.0        NaN   4.00  \n",
              "5844  2498 CC    112 bhp    8.0        NaN   2.90  \n",
              "5845   998 CC   67.1 bhp    5.0        NaN   2.65  \n",
              "5846   936 CC   57.6 bhp    5.0        NaN   2.50  \n",
              "\n",
              "[5847 rows x 14 columns]"
            ],
            "text/html": [
              "\n",
              "  <div id=\"df-c523108a-08b2-46fa-8f2c-c3501119afa2\" class=\"colab-df-container\">\n",
              "    <div>\n",
              "<style scoped>\n",
              "    .dataframe tbody tr th:only-of-type {\n",
              "        vertical-align: middle;\n",
              "    }\n",
              "\n",
              "    .dataframe tbody tr th {\n",
              "        vertical-align: top;\n",
              "    }\n",
              "\n",
              "    .dataframe thead th {\n",
              "        text-align: right;\n",
              "    }\n",
              "</style>\n",
              "<table border=\"1\" class=\"dataframe\">\n",
              "  <thead>\n",
              "    <tr style=\"text-align: right;\">\n",
              "      <th></th>\n",
              "      <th>Unnamed: 0</th>\n",
              "      <th>Name</th>\n",
              "      <th>Location</th>\n",
              "      <th>Year</th>\n",
              "      <th>Kilometers_Driven</th>\n",
              "      <th>Fuel_Type</th>\n",
              "      <th>Transmission</th>\n",
              "      <th>Owner_Type</th>\n",
              "      <th>Mileage</th>\n",
              "      <th>Engine</th>\n",
              "      <th>Power</th>\n",
              "      <th>Seats</th>\n",
              "      <th>New_Price</th>\n",
              "      <th>Price</th>\n",
              "    </tr>\n",
              "  </thead>\n",
              "  <tbody>\n",
              "    <tr>\n",
              "      <th>0</th>\n",
              "      <td>1</td>\n",
              "      <td>Hyundai Creta 1.6 CRDi SX Option</td>\n",
              "      <td>Pune</td>\n",
              "      <td>2015</td>\n",
              "      <td>41000</td>\n",
              "      <td>Diesel</td>\n",
              "      <td>Manual</td>\n",
              "      <td>First</td>\n",
              "      <td>19.67 kmpl</td>\n",
              "      <td>1582 CC</td>\n",
              "      <td>126.2 bhp</td>\n",
              "      <td>5.0</td>\n",
              "      <td>NaN</td>\n",
              "      <td>12.50</td>\n",
              "    </tr>\n",
              "    <tr>\n",
              "      <th>1</th>\n",
              "      <td>2</td>\n",
              "      <td>Honda Jazz V</td>\n",
              "      <td>Chennai</td>\n",
              "      <td>2011</td>\n",
              "      <td>46000</td>\n",
              "      <td>Petrol</td>\n",
              "      <td>Manual</td>\n",
              "      <td>First</td>\n",
              "      <td>13 km/kg</td>\n",
              "      <td>1199 CC</td>\n",
              "      <td>88.7 bhp</td>\n",
              "      <td>5.0</td>\n",
              "      <td>8.61 Lakh</td>\n",
              "      <td>4.50</td>\n",
              "    </tr>\n",
              "    <tr>\n",
              "      <th>2</th>\n",
              "      <td>3</td>\n",
              "      <td>Maruti Ertiga VDI</td>\n",
              "      <td>Chennai</td>\n",
              "      <td>2012</td>\n",
              "      <td>87000</td>\n",
              "      <td>Diesel</td>\n",
              "      <td>Manual</td>\n",
              "      <td>First</td>\n",
              "      <td>20.77 kmpl</td>\n",
              "      <td>1248 CC</td>\n",
              "      <td>88.76 bhp</td>\n",
              "      <td>7.0</td>\n",
              "      <td>NaN</td>\n",
              "      <td>6.00</td>\n",
              "    </tr>\n",
              "    <tr>\n",
              "      <th>3</th>\n",
              "      <td>4</td>\n",
              "      <td>Audi A4 New 2.0 TDI Multitronic</td>\n",
              "      <td>Coimbatore</td>\n",
              "      <td>2013</td>\n",
              "      <td>40670</td>\n",
              "      <td>Diesel</td>\n",
              "      <td>Automatic</td>\n",
              "      <td>Second</td>\n",
              "      <td>15.2 kmpl</td>\n",
              "      <td>1968 CC</td>\n",
              "      <td>140.8 bhp</td>\n",
              "      <td>5.0</td>\n",
              "      <td>NaN</td>\n",
              "      <td>17.74</td>\n",
              "    </tr>\n",
              "    <tr>\n",
              "      <th>4</th>\n",
              "      <td>6</td>\n",
              "      <td>Nissan Micra Diesel XV</td>\n",
              "      <td>Jaipur</td>\n",
              "      <td>2013</td>\n",
              "      <td>86999</td>\n",
              "      <td>Diesel</td>\n",
              "      <td>Manual</td>\n",
              "      <td>First</td>\n",
              "      <td>23.08 kmpl</td>\n",
              "      <td>1461 CC</td>\n",
              "      <td>63.1 bhp</td>\n",
              "      <td>5.0</td>\n",
              "      <td>NaN</td>\n",
              "      <td>3.50</td>\n",
              "    </tr>\n",
              "    <tr>\n",
              "      <th>...</th>\n",
              "      <td>...</td>\n",
              "      <td>...</td>\n",
              "      <td>...</td>\n",
              "      <td>...</td>\n",
              "      <td>...</td>\n",
              "      <td>...</td>\n",
              "      <td>...</td>\n",
              "      <td>...</td>\n",
              "      <td>...</td>\n",
              "      <td>...</td>\n",
              "      <td>...</td>\n",
              "      <td>...</td>\n",
              "      <td>...</td>\n",
              "      <td>...</td>\n",
              "    </tr>\n",
              "    <tr>\n",
              "      <th>5842</th>\n",
              "      <td>6014</td>\n",
              "      <td>Maruti Swift VDI</td>\n",
              "      <td>Delhi</td>\n",
              "      <td>2014</td>\n",
              "      <td>27365</td>\n",
              "      <td>Diesel</td>\n",
              "      <td>Manual</td>\n",
              "      <td>First</td>\n",
              "      <td>28.4 kmpl</td>\n",
              "      <td>1248 CC</td>\n",
              "      <td>74 bhp</td>\n",
              "      <td>5.0</td>\n",
              "      <td>7.88 Lakh</td>\n",
              "      <td>4.75</td>\n",
              "    </tr>\n",
              "    <tr>\n",
              "      <th>5843</th>\n",
              "      <td>6015</td>\n",
              "      <td>Hyundai Xcent 1.1 CRDi S</td>\n",
              "      <td>Jaipur</td>\n",
              "      <td>2015</td>\n",
              "      <td>100000</td>\n",
              "      <td>Diesel</td>\n",
              "      <td>Manual</td>\n",
              "      <td>First</td>\n",
              "      <td>24.4 kmpl</td>\n",
              "      <td>1120 CC</td>\n",
              "      <td>71 bhp</td>\n",
              "      <td>5.0</td>\n",
              "      <td>NaN</td>\n",
              "      <td>4.00</td>\n",
              "    </tr>\n",
              "    <tr>\n",
              "      <th>5844</th>\n",
              "      <td>6016</td>\n",
              "      <td>Mahindra Xylo D4 BSIV</td>\n",
              "      <td>Jaipur</td>\n",
              "      <td>2012</td>\n",
              "      <td>55000</td>\n",
              "      <td>Diesel</td>\n",
              "      <td>Manual</td>\n",
              "      <td>Second</td>\n",
              "      <td>14.0 kmpl</td>\n",
              "      <td>2498 CC</td>\n",
              "      <td>112 bhp</td>\n",
              "      <td>8.0</td>\n",
              "      <td>NaN</td>\n",
              "      <td>2.90</td>\n",
              "    </tr>\n",
              "    <tr>\n",
              "      <th>5845</th>\n",
              "      <td>6017</td>\n",
              "      <td>Maruti Wagon R VXI</td>\n",
              "      <td>Kolkata</td>\n",
              "      <td>2013</td>\n",
              "      <td>46000</td>\n",
              "      <td>Petrol</td>\n",
              "      <td>Manual</td>\n",
              "      <td>First</td>\n",
              "      <td>18.9 kmpl</td>\n",
              "      <td>998 CC</td>\n",
              "      <td>67.1 bhp</td>\n",
              "      <td>5.0</td>\n",
              "      <td>NaN</td>\n",
              "      <td>2.65</td>\n",
              "    </tr>\n",
              "    <tr>\n",
              "      <th>5846</th>\n",
              "      <td>6018</td>\n",
              "      <td>Chevrolet Beat Diesel</td>\n",
              "      <td>Hyderabad</td>\n",
              "      <td>2011</td>\n",
              "      <td>47000</td>\n",
              "      <td>Diesel</td>\n",
              "      <td>Manual</td>\n",
              "      <td>First</td>\n",
              "      <td>25.44 kmpl</td>\n",
              "      <td>936 CC</td>\n",
              "      <td>57.6 bhp</td>\n",
              "      <td>5.0</td>\n",
              "      <td>NaN</td>\n",
              "      <td>2.50</td>\n",
              "    </tr>\n",
              "  </tbody>\n",
              "</table>\n",
              "<p>5847 rows × 14 columns</p>\n",
              "</div>\n",
              "    <div class=\"colab-df-buttons\">\n",
              "\n",
              "  <div class=\"colab-df-container\">\n",
              "    <button class=\"colab-df-convert\" onclick=\"convertToInteractive('df-c523108a-08b2-46fa-8f2c-c3501119afa2')\"\n",
              "            title=\"Convert this dataframe to an interactive table.\"\n",
              "            style=\"display:none;\">\n",
              "\n",
              "  <svg xmlns=\"http://www.w3.org/2000/svg\" height=\"24px\" viewBox=\"0 -960 960 960\">\n",
              "    <path d=\"M120-120v-720h720v720H120Zm60-500h600v-160H180v160Zm220 220h160v-160H400v160Zm0 220h160v-160H400v160ZM180-400h160v-160H180v160Zm440 0h160v-160H620v160ZM180-180h160v-160H180v160Zm440 0h160v-160H620v160Z\"/>\n",
              "  </svg>\n",
              "    </button>\n",
              "\n",
              "  <style>\n",
              "    .colab-df-container {\n",
              "      display:flex;\n",
              "      gap: 12px;\n",
              "    }\n",
              "\n",
              "    .colab-df-convert {\n",
              "      background-color: #E8F0FE;\n",
              "      border: none;\n",
              "      border-radius: 50%;\n",
              "      cursor: pointer;\n",
              "      display: none;\n",
              "      fill: #1967D2;\n",
              "      height: 32px;\n",
              "      padding: 0 0 0 0;\n",
              "      width: 32px;\n",
              "    }\n",
              "\n",
              "    .colab-df-convert:hover {\n",
              "      background-color: #E2EBFA;\n",
              "      box-shadow: 0px 1px 2px rgba(60, 64, 67, 0.3), 0px 1px 3px 1px rgba(60, 64, 67, 0.15);\n",
              "      fill: #174EA6;\n",
              "    }\n",
              "\n",
              "    .colab-df-buttons div {\n",
              "      margin-bottom: 4px;\n",
              "    }\n",
              "\n",
              "    [theme=dark] .colab-df-convert {\n",
              "      background-color: #3B4455;\n",
              "      fill: #D2E3FC;\n",
              "    }\n",
              "\n",
              "    [theme=dark] .colab-df-convert:hover {\n",
              "      background-color: #434B5C;\n",
              "      box-shadow: 0px 1px 3px 1px rgba(0, 0, 0, 0.15);\n",
              "      filter: drop-shadow(0px 1px 2px rgba(0, 0, 0, 0.3));\n",
              "      fill: #FFFFFF;\n",
              "    }\n",
              "  </style>\n",
              "\n",
              "    <script>\n",
              "      const buttonEl =\n",
              "        document.querySelector('#df-c523108a-08b2-46fa-8f2c-c3501119afa2 button.colab-df-convert');\n",
              "      buttonEl.style.display =\n",
              "        google.colab.kernel.accessAllowed ? 'block' : 'none';\n",
              "\n",
              "      async function convertToInteractive(key) {\n",
              "        const element = document.querySelector('#df-c523108a-08b2-46fa-8f2c-c3501119afa2');\n",
              "        const dataTable =\n",
              "          await google.colab.kernel.invokeFunction('convertToInteractive',\n",
              "                                                    [key], {});\n",
              "        if (!dataTable) return;\n",
              "\n",
              "        const docLinkHtml = 'Like what you see? Visit the ' +\n",
              "          '<a target=\"_blank\" href=https://colab.research.google.com/notebooks/data_table.ipynb>data table notebook</a>'\n",
              "          + ' to learn more about interactive tables.';\n",
              "        element.innerHTML = '';\n",
              "        dataTable['output_type'] = 'display_data';\n",
              "        await google.colab.output.renderOutput(dataTable, element);\n",
              "        const docLink = document.createElement('div');\n",
              "        docLink.innerHTML = docLinkHtml;\n",
              "        element.appendChild(docLink);\n",
              "      }\n",
              "    </script>\n",
              "  </div>\n",
              "\n",
              "\n",
              "<div id=\"df-addffe65-ee50-49ad-8d90-19c09169a1ec\">\n",
              "  <button class=\"colab-df-quickchart\" onclick=\"quickchart('df-addffe65-ee50-49ad-8d90-19c09169a1ec')\"\n",
              "            title=\"Suggest charts\"\n",
              "            style=\"display:none;\">\n",
              "\n",
              "<svg xmlns=\"http://www.w3.org/2000/svg\" height=\"24px\"viewBox=\"0 0 24 24\"\n",
              "     width=\"24px\">\n",
              "    <g>\n",
              "        <path d=\"M19 3H5c-1.1 0-2 .9-2 2v14c0 1.1.9 2 2 2h14c1.1 0 2-.9 2-2V5c0-1.1-.9-2-2-2zM9 17H7v-7h2v7zm4 0h-2V7h2v10zm4 0h-2v-4h2v4z\"/>\n",
              "    </g>\n",
              "</svg>\n",
              "  </button>\n",
              "\n",
              "<style>\n",
              "  .colab-df-quickchart {\n",
              "      --bg-color: #E8F0FE;\n",
              "      --fill-color: #1967D2;\n",
              "      --hover-bg-color: #E2EBFA;\n",
              "      --hover-fill-color: #174EA6;\n",
              "      --disabled-fill-color: #AAA;\n",
              "      --disabled-bg-color: #DDD;\n",
              "  }\n",
              "\n",
              "  [theme=dark] .colab-df-quickchart {\n",
              "      --bg-color: #3B4455;\n",
              "      --fill-color: #D2E3FC;\n",
              "      --hover-bg-color: #434B5C;\n",
              "      --hover-fill-color: #FFFFFF;\n",
              "      --disabled-bg-color: #3B4455;\n",
              "      --disabled-fill-color: #666;\n",
              "  }\n",
              "\n",
              "  .colab-df-quickchart {\n",
              "    background-color: var(--bg-color);\n",
              "    border: none;\n",
              "    border-radius: 50%;\n",
              "    cursor: pointer;\n",
              "    display: none;\n",
              "    fill: var(--fill-color);\n",
              "    height: 32px;\n",
              "    padding: 0;\n",
              "    width: 32px;\n",
              "  }\n",
              "\n",
              "  .colab-df-quickchart:hover {\n",
              "    background-color: var(--hover-bg-color);\n",
              "    box-shadow: 0 1px 2px rgba(60, 64, 67, 0.3), 0 1px 3px 1px rgba(60, 64, 67, 0.15);\n",
              "    fill: var(--button-hover-fill-color);\n",
              "  }\n",
              "\n",
              "  .colab-df-quickchart-complete:disabled,\n",
              "  .colab-df-quickchart-complete:disabled:hover {\n",
              "    background-color: var(--disabled-bg-color);\n",
              "    fill: var(--disabled-fill-color);\n",
              "    box-shadow: none;\n",
              "  }\n",
              "\n",
              "  .colab-df-spinner {\n",
              "    border: 2px solid var(--fill-color);\n",
              "    border-color: transparent;\n",
              "    border-bottom-color: var(--fill-color);\n",
              "    animation:\n",
              "      spin 1s steps(1) infinite;\n",
              "  }\n",
              "\n",
              "  @keyframes spin {\n",
              "    0% {\n",
              "      border-color: transparent;\n",
              "      border-bottom-color: var(--fill-color);\n",
              "      border-left-color: var(--fill-color);\n",
              "    }\n",
              "    20% {\n",
              "      border-color: transparent;\n",
              "      border-left-color: var(--fill-color);\n",
              "      border-top-color: var(--fill-color);\n",
              "    }\n",
              "    30% {\n",
              "      border-color: transparent;\n",
              "      border-left-color: var(--fill-color);\n",
              "      border-top-color: var(--fill-color);\n",
              "      border-right-color: var(--fill-color);\n",
              "    }\n",
              "    40% {\n",
              "      border-color: transparent;\n",
              "      border-right-color: var(--fill-color);\n",
              "      border-top-color: var(--fill-color);\n",
              "    }\n",
              "    60% {\n",
              "      border-color: transparent;\n",
              "      border-right-color: var(--fill-color);\n",
              "    }\n",
              "    80% {\n",
              "      border-color: transparent;\n",
              "      border-right-color: var(--fill-color);\n",
              "      border-bottom-color: var(--fill-color);\n",
              "    }\n",
              "    90% {\n",
              "      border-color: transparent;\n",
              "      border-bottom-color: var(--fill-color);\n",
              "    }\n",
              "  }\n",
              "</style>\n",
              "\n",
              "  <script>\n",
              "    async function quickchart(key) {\n",
              "      const quickchartButtonEl =\n",
              "        document.querySelector('#' + key + ' button');\n",
              "      quickchartButtonEl.disabled = true;  // To prevent multiple clicks.\n",
              "      quickchartButtonEl.classList.add('colab-df-spinner');\n",
              "      try {\n",
              "        const charts = await google.colab.kernel.invokeFunction(\n",
              "            'suggestCharts', [key], {});\n",
              "      } catch (error) {\n",
              "        console.error('Error during call to suggestCharts:', error);\n",
              "      }\n",
              "      quickchartButtonEl.classList.remove('colab-df-spinner');\n",
              "      quickchartButtonEl.classList.add('colab-df-quickchart-complete');\n",
              "    }\n",
              "    (() => {\n",
              "      let quickchartButtonEl =\n",
              "        document.querySelector('#df-addffe65-ee50-49ad-8d90-19c09169a1ec button');\n",
              "      quickchartButtonEl.style.display =\n",
              "        google.colab.kernel.accessAllowed ? 'block' : 'none';\n",
              "    })();\n",
              "  </script>\n",
              "</div>\n",
              "\n",
              "  <div id=\"id_9657909b-9098-4e47-bc78-61aba9697c26\">\n",
              "    <style>\n",
              "      .colab-df-generate {\n",
              "        background-color: #E8F0FE;\n",
              "        border: none;\n",
              "        border-radius: 50%;\n",
              "        cursor: pointer;\n",
              "        display: none;\n",
              "        fill: #1967D2;\n",
              "        height: 32px;\n",
              "        padding: 0 0 0 0;\n",
              "        width: 32px;\n",
              "      }\n",
              "\n",
              "      .colab-df-generate:hover {\n",
              "        background-color: #E2EBFA;\n",
              "        box-shadow: 0px 1px 2px rgba(60, 64, 67, 0.3), 0px 1px 3px 1px rgba(60, 64, 67, 0.15);\n",
              "        fill: #174EA6;\n",
              "      }\n",
              "\n",
              "      [theme=dark] .colab-df-generate {\n",
              "        background-color: #3B4455;\n",
              "        fill: #D2E3FC;\n",
              "      }\n",
              "\n",
              "      [theme=dark] .colab-df-generate:hover {\n",
              "        background-color: #434B5C;\n",
              "        box-shadow: 0px 1px 3px 1px rgba(0, 0, 0, 0.15);\n",
              "        filter: drop-shadow(0px 1px 2px rgba(0, 0, 0, 0.3));\n",
              "        fill: #FFFFFF;\n",
              "      }\n",
              "    </style>\n",
              "    <button class=\"colab-df-generate\" onclick=\"generateWithVariable('car_df')\"\n",
              "            title=\"Generate code using this dataframe.\"\n",
              "            style=\"display:none;\">\n",
              "\n",
              "  <svg xmlns=\"http://www.w3.org/2000/svg\" height=\"24px\"viewBox=\"0 0 24 24\"\n",
              "       width=\"24px\">\n",
              "    <path d=\"M7,19H8.4L18.45,9,17,7.55,7,17.6ZM5,21V16.75L18.45,3.32a2,2,0,0,1,2.83,0l1.4,1.43a1.91,1.91,0,0,1,.58,1.4,1.91,1.91,0,0,1-.58,1.4L9.25,21ZM18.45,9,17,7.55Zm-12,3A5.31,5.31,0,0,0,4.9,8.1,5.31,5.31,0,0,0,1,6.5,5.31,5.31,0,0,0,4.9,4.9,5.31,5.31,0,0,0,6.5,1,5.31,5.31,0,0,0,8.1,4.9,5.31,5.31,0,0,0,12,6.5,5.46,5.46,0,0,0,6.5,12Z\"/>\n",
              "  </svg>\n",
              "    </button>\n",
              "    <script>\n",
              "      (() => {\n",
              "      const buttonEl =\n",
              "        document.querySelector('#id_9657909b-9098-4e47-bc78-61aba9697c26 button.colab-df-generate');\n",
              "      buttonEl.style.display =\n",
              "        google.colab.kernel.accessAllowed ? 'block' : 'none';\n",
              "\n",
              "      buttonEl.onclick = () => {\n",
              "        google.colab.notebook.generateWithVariable('car_df');\n",
              "      }\n",
              "      })();\n",
              "    </script>\n",
              "  </div>\n",
              "\n",
              "    </div>\n",
              "  </div>\n"
            ],
            "application/vnd.google.colaboratory.intrinsic+json": {
              "type": "dataframe",
              "variable_name": "car_df",
              "summary": "{\n  \"name\": \"car_df\",\n  \"rows\": 5847,\n  \"fields\": [\n    {\n      \"column\": \"Unnamed: 0\",\n      \"properties\": {\n        \"dtype\": \"number\",\n        \"std\": 1736,\n        \"min\": 1,\n        \"max\": 6018,\n        \"num_unique_values\": 5847,\n        \"samples\": [\n          5259,\n          3413,\n          4365\n        ],\n        \"semantic_type\": \"\",\n        \"description\": \"\"\n      }\n    },\n    {\n      \"column\": \"Name\",\n      \"properties\": {\n        \"dtype\": \"category\",\n        \"num_unique_values\": 1804,\n        \"samples\": [\n          \"BMW 7 Series 2007-2012 750Li\",\n          \"Maruti Ertiga SHVS VDI\",\n          \"Mahindra XUV300 W8 Diesel\"\n        ],\n        \"semantic_type\": \"\",\n        \"description\": \"\"\n      }\n    },\n    {\n      \"column\": \"Location\",\n      \"properties\": {\n        \"dtype\": \"category\",\n        \"num_unique_values\": 11,\n        \"samples\": [\n          \"Kochi\",\n          \"Pune\",\n          \"Hyderabad\"\n        ],\n        \"semantic_type\": \"\",\n        \"description\": \"\"\n      }\n    },\n    {\n      \"column\": \"Year\",\n      \"properties\": {\n        \"dtype\": \"number\",\n        \"std\": 3,\n        \"min\": 1998,\n        \"max\": 2019,\n        \"num_unique_values\": 22,\n        \"samples\": [\n          2015,\n          2006,\n          2010\n        ],\n        \"semantic_type\": \"\",\n        \"description\": \"\"\n      }\n    },\n    {\n      \"column\": \"Kilometers_Driven\",\n      \"properties\": {\n        \"dtype\": \"number\",\n        \"std\": 92379,\n        \"min\": 171,\n        \"max\": 6500000,\n        \"num_unique_values\": 3019,\n        \"samples\": [\n          56075,\n          75421,\n          143275\n        ],\n        \"semantic_type\": \"\",\n        \"description\": \"\"\n      }\n    },\n    {\n      \"column\": \"Fuel_Type\",\n      \"properties\": {\n        \"dtype\": \"category\",\n        \"num_unique_values\": 3,\n        \"samples\": [\n          \"Diesel\",\n          \"Petrol\",\n          \"Electric\"\n        ],\n        \"semantic_type\": \"\",\n        \"description\": \"\"\n      }\n    },\n    {\n      \"column\": \"Transmission\",\n      \"properties\": {\n        \"dtype\": \"category\",\n        \"num_unique_values\": 2,\n        \"samples\": [\n          \"Automatic\",\n          \"Manual\"\n        ],\n        \"semantic_type\": \"\",\n        \"description\": \"\"\n      }\n    },\n    {\n      \"column\": \"Owner_Type\",\n      \"properties\": {\n        \"dtype\": \"category\",\n        \"num_unique_values\": 4,\n        \"samples\": [\n          \"Second\",\n          \"Third\"\n        ],\n        \"semantic_type\": \"\",\n        \"description\": \"\"\n      }\n    },\n    {\n      \"column\": \"Mileage\",\n      \"properties\": {\n        \"dtype\": \"category\",\n        \"num_unique_values\": 419,\n        \"samples\": [\n          \"18.16 kmpl\",\n          \"23.84 kmpl\"\n        ],\n        \"semantic_type\": \"\",\n        \"description\": \"\"\n      }\n    },\n    {\n      \"column\": \"Engine\",\n      \"properties\": {\n        \"dtype\": \"category\",\n        \"num_unique_values\": 140,\n        \"samples\": [\n          \"2495 CC\",\n          \"1794 CC\"\n        ],\n        \"semantic_type\": \"\",\n        \"description\": \"\"\n      }\n    },\n    {\n      \"column\": \"Power\",\n      \"properties\": {\n        \"dtype\": \"category\",\n        \"num_unique_values\": 361,\n        \"samples\": [\n          \"62.1 bhp\",\n          \"77 bhp\"\n        ],\n        \"semantic_type\": \"\",\n        \"description\": \"\"\n      }\n    },\n    {\n      \"column\": \"Seats\",\n      \"properties\": {\n        \"dtype\": \"number\",\n        \"std\": 0.8066681227182382,\n        \"min\": 2.0,\n        \"max\": 10.0,\n        \"num_unique_values\": 8,\n        \"samples\": [\n          7.0,\n          2.0\n        ],\n        \"semantic_type\": \"\",\n        \"description\": \"\"\n      }\n    },\n    {\n      \"column\": \"New_Price\",\n      \"properties\": {\n        \"dtype\": \"category\",\n        \"num_unique_values\": 534,\n        \"samples\": [\n          \"10.48 Lakh\",\n          \"14.1 Lakh\"\n        ],\n        \"semantic_type\": \"\",\n        \"description\": \"\"\n      }\n    },\n    {\n      \"column\": \"Price\",\n      \"properties\": {\n        \"dtype\": \"number\",\n        \"std\": 11.275965706808531,\n        \"min\": 0.44,\n        \"max\": 160.0,\n        \"num_unique_values\": 1366,\n        \"samples\": [\n          3.98,\n          3.78\n        ],\n        \"semantic_type\": \"\",\n        \"description\": \"\"\n      }\n    }\n  ]\n}"
            }
          },
          "metadata": {},
          "execution_count": 89
        }
      ],
      "source": [
        "import pandas as pd\n",
        "import numpy as np\n",
        "from datetime import datetime\n",
        "\n",
        "# Load the dataset (replace filename with your actual file name if different)\n",
        "# Load dataset into a DataFrame\n",
        "car_df = pd.read_csv('train.csv')\n",
        "car_df"
      ]
    },
    {
      "cell_type": "code",
      "source": [
        "print(\"Initial dataset preview:\")\n",
        "print(car_df.head())"
      ],
      "metadata": {
        "colab": {
          "base_uri": "https://localhost:8080/"
        },
        "id": "By8in-dFAZs0",
        "outputId": "0a6732dc-7a05-4c72-d455-747369eff06c"
      },
      "execution_count": 90,
      "outputs": [
        {
          "output_type": "stream",
          "name": "stdout",
          "text": [
            "Initial dataset preview:\n",
            "   Unnamed: 0                              Name    Location  Year  \\\n",
            "0           1  Hyundai Creta 1.6 CRDi SX Option        Pune  2015   \n",
            "1           2                      Honda Jazz V     Chennai  2011   \n",
            "2           3                 Maruti Ertiga VDI     Chennai  2012   \n",
            "3           4   Audi A4 New 2.0 TDI Multitronic  Coimbatore  2013   \n",
            "4           6            Nissan Micra Diesel XV      Jaipur  2013   \n",
            "\n",
            "   Kilometers_Driven Fuel_Type Transmission Owner_Type     Mileage   Engine  \\\n",
            "0              41000    Diesel       Manual      First  19.67 kmpl  1582 CC   \n",
            "1              46000    Petrol       Manual      First    13 km/kg  1199 CC   \n",
            "2              87000    Diesel       Manual      First  20.77 kmpl  1248 CC   \n",
            "3              40670    Diesel    Automatic     Second   15.2 kmpl  1968 CC   \n",
            "4              86999    Diesel       Manual      First  23.08 kmpl  1461 CC   \n",
            "\n",
            "       Power  Seats  New_Price  Price  \n",
            "0  126.2 bhp    5.0        NaN  12.50  \n",
            "1   88.7 bhp    5.0  8.61 Lakh   4.50  \n",
            "2  88.76 bhp    7.0        NaN   6.00  \n",
            "3  140.8 bhp    5.0        NaN  17.74  \n",
            "4   63.1 bhp    5.0        NaN   3.50  \n"
          ]
        }
      ]
    },
    {
      "cell_type": "markdown",
      "source": [
        "**Finding Missing values **"
      ],
      "metadata": {
        "id": "8TmpRagWAwVr"
      }
    },
    {
      "cell_type": "code",
      "source": [
        "print(\"\\nSummary of missing values initially:\")\n",
        "print(car_df.isnull().sum())"
      ],
      "metadata": {
        "id": "nl_WJx7V8gSy",
        "colab": {
          "base_uri": "https://localhost:8080/"
        },
        "outputId": "337a9631-f4df-4862-903e-e77c58a19bea"
      },
      "execution_count": 91,
      "outputs": [
        {
          "output_type": "stream",
          "name": "stdout",
          "text": [
            "\n",
            "Summary of missing values initially:\n",
            "Unnamed: 0              0\n",
            "Name                    0\n",
            "Location                0\n",
            "Year                    0\n",
            "Kilometers_Driven       0\n",
            "Fuel_Type               0\n",
            "Transmission            0\n",
            "Owner_Type              0\n",
            "Mileage                 2\n",
            "Engine                 36\n",
            "Power                  36\n",
            "Seats                  38\n",
            "New_Price            5032\n",
            "Price                   0\n",
            "dtype: int64\n"
          ]
        }
      ]
    },
    {
      "cell_type": "markdown",
      "source": [],
      "metadata": {
        "id": "4Q_ZS974AvNW"
      }
    },
    {
      "cell_type": "markdown",
      "source": [
        "**# Handling missing values clearly based on data type**"
      ],
      "metadata": {
        "id": "4GrYcY6aA-nN"
      }
    },
    {
      "cell_type": "code",
      "source": [
        "for col in car_df.columns:\n",
        "    missing_count = car_df[col].isna().sum()\n",
        "    if missing_count > 0:\n",
        "        if car_df[col].dtype == 'object':\n",
        "            common_value = car_df[col].mode()[0]\n",
        "            car_df[col] = car_df[col].fillna(common_value)  # corrected line\n",
        "            print(f\"Filled '{col}' with mode: {common_value}\")\n",
        "        else:\n",
        "            avg_value = car_df[col].mean()\n",
        "            car_df[col] = car_df[col].fillna(avg_value)  # corrected line\n",
        "            print(f\"Filled '{col}' with mean: {avg_value:.2f}\")\n"
      ],
      "metadata": {
        "id": "hT-kkF7c8gjr",
        "colab": {
          "base_uri": "https://localhost:8080/"
        },
        "outputId": "3d4fa917-66bc-4742-a718-a863b3f8737a"
      },
      "execution_count": 92,
      "outputs": [
        {
          "output_type": "stream",
          "name": "stdout",
          "text": [
            "Filled 'Mileage' with mode: 18.9 kmpl\n",
            "Filled 'Engine' with mode: 1197 CC\n",
            "Filled 'Power' with mode: 74 bhp\n",
            "Filled 'Seats' with mean: 5.29\n",
            "Filled 'New_Price' with mode: 4.78 Lakh\n"
          ]
        }
      ]
    },
    {
      "cell_type": "markdown",
      "source": [
        "**# Confirming missing values are addressed**"
      ],
      "metadata": {
        "id": "Q4fVBrQJB1Fs"
      }
    },
    {
      "cell_type": "code",
      "source": [
        "print(\"\\nMissing values after filling:\")\n",
        "print(car_df.isnull().sum())\n"
      ],
      "metadata": {
        "colab": {
          "base_uri": "https://localhost:8080/"
        },
        "id": "Ot-OsHm8B5TH",
        "outputId": "64592ed5-a6af-49cd-b89c-2ec9b0b0708f"
      },
      "execution_count": 93,
      "outputs": [
        {
          "output_type": "stream",
          "name": "stdout",
          "text": [
            "\n",
            "Missing values after filling:\n",
            "Unnamed: 0           0\n",
            "Name                 0\n",
            "Location             0\n",
            "Year                 0\n",
            "Kilometers_Driven    0\n",
            "Fuel_Type            0\n",
            "Transmission         0\n",
            "Owner_Type           0\n",
            "Mileage              0\n",
            "Engine               0\n",
            "Power                0\n",
            "Seats                0\n",
            "New_Price            0\n",
            "Price                0\n",
            "dtype: int64\n"
          ]
        }
      ]
    },
    {
      "cell_type": "markdown",
      "source": [
        "# Removing textual units to keep numerical values **only**"
      ],
      "metadata": {
        "id": "4E4UDRpkCJwz"
      }
    },
    {
      "cell_type": "code",
      "source": [
        "# Clearly convert columns to string before removing textual units\n",
        "car_df['Mileage'] = pd.to_numeric(car_df['Mileage'].astype(str)\n",
        "                                  .str.replace(' kmpl', '', regex=False)\n",
        "                                  .str.replace(' km/kg', '', regex=False),\n",
        "                                  errors='coerce')\n",
        "\n",
        "car_df['Engine'] = pd.to_numeric(car_df['Engine'].astype(str)\n",
        "                                 .str.replace(' CC', '', regex=False),\n",
        "                                 errors='coerce')\n",
        "\n",
        "car_df['Power'] = pd.to_numeric(car_df['Power'].astype(str)\n",
        "                                .str.replace(' bhp', '', regex=False),\n",
        "                                errors='coerce')\n",
        "\n",
        "car_df['New_Price'] = pd.to_numeric(car_df['New_Price'].astype(str)\n",
        "                                    .str.replace(' lakh', '', regex=False),\n",
        "                                    errors='coerce')\n",
        "\n",
        "\n"
      ],
      "metadata": {
        "id": "4WkGTWseCHB8"
      },
      "execution_count": 94,
      "outputs": []
    },
    {
      "cell_type": "code",
      "source": [
        "# Check clearly if the changes applied successfully\n",
        "print(\"\\nMileage after removal:\", car_df['Mileage'].head())\n",
        "print(\"\\nEngine after removal:\", car_df['Engine'].head())\n",
        "print(\"\\nPower after removal:\", car_df['Power'].head())\n",
        "print(\"\\nNew Price after removal:\", car_df['New_Price'].head())"
      ],
      "metadata": {
        "colab": {
          "base_uri": "https://localhost:8080/"
        },
        "id": "DVUhNfHTFvPW",
        "outputId": "e80a7511-0dfe-43a6-9fde-6986811d32c8"
      },
      "execution_count": 95,
      "outputs": [
        {
          "output_type": "stream",
          "name": "stdout",
          "text": [
            "\n",
            "Mileage after removal: 0    19.67\n",
            "1    13.00\n",
            "2    20.77\n",
            "3    15.20\n",
            "4    23.08\n",
            "Name: Mileage, dtype: float64\n",
            "\n",
            "Engine after removal: 0    1582\n",
            "1    1199\n",
            "2    1248\n",
            "3    1968\n",
            "4    1461\n",
            "Name: Engine, dtype: int64\n",
            "\n",
            "Power after removal: 0    126.20\n",
            "1     88.70\n",
            "2     88.76\n",
            "3    140.80\n",
            "4     63.10\n",
            "Name: Power, dtype: float64\n",
            "\n",
            "New Price after removal: 0   NaN\n",
            "1   NaN\n",
            "2   NaN\n",
            "3   NaN\n",
            "4   NaN\n",
            "Name: New_Price, dtype: float64\n"
          ]
        }
      ]
    },
    {
      "cell_type": "markdown",
      "source": [],
      "metadata": {
        "id": "wzspPRvYCZz3"
      }
    },
    {
      "cell_type": "code",
      "source": [
        "print(\"Fuel_Type unique values:\", car_df['Fuel_Type'].unique())\n",
        "print(\"Transmission unique values:\", car_df['Transmission'].unique())\n"
      ],
      "metadata": {
        "colab": {
          "base_uri": "https://localhost:8080/"
        },
        "id": "W6YluuZ1GHpi",
        "outputId": "c536d660-c99c-4b46-fb3a-89bf06eede59"
      },
      "execution_count": 96,
      "outputs": [
        {
          "output_type": "stream",
          "name": "stdout",
          "text": [
            "Fuel_Type unique values: ['Diesel' 'Petrol' 'Electric']\n",
            "Transmission unique values: ['Manual' 'Automatic']\n"
          ]
        }
      ]
    },
    {
      "cell_type": "markdown",
      "source": [
        "Creating a new useful feature - Age of the car"
      ],
      "metadata": {
        "id": "ZtqLloRDHXeM"
      }
    },
    {
      "cell_type": "code",
      "source": [
        "print(car_df.columns.tolist())\n"
      ],
      "metadata": {
        "colab": {
          "base_uri": "https://localhost:8080/"
        },
        "id": "SoW4RkLLJJxA",
        "outputId": "e897386c-6f52-4355-bc29-20a5af33f326"
      },
      "execution_count": 97,
      "outputs": [
        {
          "output_type": "stream",
          "name": "stdout",
          "text": [
            "['Unnamed: 0', 'Name', 'Location', 'Year', 'Kilometers_Driven', 'Fuel_Type', 'Transmission', 'Owner_Type', 'Mileage', 'Engine', 'Power', 'Seats', 'New_Price', 'Price']\n"
          ]
        }
      ]
    },
    {
      "cell_type": "markdown",
      "source": [
        "## Converting categorical columns into numerical binary form *clearly*"
      ],
      "metadata": {
        "id": "aCWHIIDcCdFT"
      }
    },
    {
      "cell_type": "code",
      "source": [
        "\n",
        "car_df['Fuel_Type'] = car_df['Fuel_Type'].astype(str).str.strip().str.title()\n",
        "car_df['Transmission'] = car_df['Transmission'].astype(str).str.strip().str.title()\n",
        "\n",
        "print(car_df[['Fuel_Type', 'Transmission']].head())\n",
        "\n"
      ],
      "metadata": {
        "colab": {
          "base_uri": "https://localhost:8080/"
        },
        "id": "uZQ5XqgVIp2Q",
        "outputId": "85582afb-3963-4d0f-e7ff-cb71e4686a79"
      },
      "execution_count": 100,
      "outputs": [
        {
          "output_type": "stream",
          "name": "stdout",
          "text": [
            "  Fuel_Type Transmission\n",
            "0    Diesel       Manual\n",
            "1    Petrol       Manual\n",
            "2    Diesel       Manual\n",
            "3    Diesel    Automatic\n",
            "4    Diesel       Manual\n"
          ]
        }
      ]
    },
    {
      "cell_type": "markdown",
      "source": [
        "\n",
        "Create a new feature 'Car_Age' by subtracting 'Year' from the current year"
      ],
      "metadata": {
        "id": "7Iodf3C3IJMo"
      }
    },
    {
      "cell_type": "code",
      "source": [
        "# Get the current year\n",
        "current_year = datetime.now().year\n",
        "\n",
        "# Create a new 'Car_Age' column based on 'Year'\n",
        "car_df['Car_Age'] = current_year - car_df['Year']\n",
        "\n",
        "# Save the updated dataset to a new CSV file\n",
        "car_df.to_csv(\"task_d_car_age_column.csv\", index=False)\n",
        "\n",
        "# Check if the 'Car_Age' column was added successfully\n",
        "print(\"Columns after adding 'Car_Age' column:\")\n",
        "print(car_df.columns)\n",
        "\n",
        "# Display the first few rows to confirm the new column\n",
        "print(\"\\nFirst few rows with the 'Car_Age' column:\")\n",
        "print(car_df[['Year', 'Car_Age']].head())\n"
      ],
      "metadata": {
        "colab": {
          "base_uri": "https://localhost:8080/"
        },
        "id": "NMfNLjzlG2GH",
        "outputId": "96dc0076-10e5-40f1-c3d3-11a3cd9772d4"
      },
      "execution_count": 101,
      "outputs": [
        {
          "output_type": "stream",
          "name": "stdout",
          "text": [
            "Columns after adding 'Car_Age' column:\n",
            "Index(['Unnamed: 0', 'Name', 'Location', 'Year', 'Kilometers_Driven',\n",
            "       'Fuel_Type', 'Transmission', 'Owner_Type', 'Mileage', 'Engine', 'Power',\n",
            "       'Seats', 'New_Price', 'Price', 'Car_Age'],\n",
            "      dtype='object')\n",
            "\n",
            "First few rows with the 'Car_Age' column:\n",
            "   Year  Car_Age\n",
            "0  2015       10\n",
            "1  2011       14\n",
            "2  2012       13\n",
            "3  2013       12\n",
            "4  2013       12\n"
          ]
        }
      ]
    },
    {
      "cell_type": "code",
      "source": [
        "\n",
        "original_df = pd.read_csv('train.csv')\n"
      ],
      "metadata": {
        "id": "BhSJ3aYkKoGO"
      },
      "execution_count": 102,
      "outputs": []
    },
    {
      "cell_type": "code",
      "source": [
        "# Restore original 'Fuel_Type' into your processed dataframe\n",
        "car_df['FuelType'] = original_df['Fuel_Type']\n",
        "\n",
        "\n",
        "car_df['FuelType'] = car_df['FuelType'].astype(str).str.strip().str.title()\n"
      ],
      "metadata": {
        "id": "460XmlOcKFxe"
      },
      "execution_count": 103,
      "outputs": []
    },
    {
      "cell_type": "code",
      "source": [
        "\n",
        "selected_columns = car_df[['Name', 'Year', 'FuelType', 'Price']]\n",
        "\n",
        "\n",
        "print(\"\\nSelected rows with correct FuelType values:\")\n",
        "print(selected_columns.head())\n",
        "\n",
        "# Save to new CSV\n",
        "selected_columns.to_csv(\"task_e_selected_columns.csv\", index=False)\n"
      ],
      "metadata": {
        "colab": {
          "base_uri": "https://localhost:8080/"
        },
        "id": "OaeZ-e8YKmYQ",
        "outputId": "b5eebc1d-7312-4308-a05e-5b9dd77ed109"
      },
      "execution_count": 104,
      "outputs": [
        {
          "output_type": "stream",
          "name": "stdout",
          "text": [
            "\n",
            "Selected rows with correct FuelType values:\n",
            "                               Name  Year FuelType  Price\n",
            "0  Hyundai Creta 1.6 CRDi SX Option  2015   Diesel  12.50\n",
            "1                      Honda Jazz V  2011   Petrol   4.50\n",
            "2                 Maruti Ertiga VDI  2012   Diesel   6.00\n",
            "3   Audi A4 New 2.0 TDI Multitronic  2013   Diesel  17.74\n",
            "4            Nissan Micra Diesel XV  2013   Diesel   3.50\n"
          ]
        }
      ]
    },
    {
      "cell_type": "code",
      "source": [
        "# I don't need numeric versions, so I'm removing them from the dataset\n",
        "car_df.drop(columns=['Fuel_Type_Numeric', 'Transmission_Numeric'], inplace=True, errors='ignore')\n",
        "\n",
        "\n",
        "print(\"\\nRemaining columns after dropping numeric ones:\")\n",
        "print(car_df.columns)\n"
      ],
      "metadata": {
        "colab": {
          "base_uri": "https://localhost:8080/"
        },
        "id": "jSJal6tRMNoU",
        "outputId": "3b7f39a2-cac8-4f06-ed77-61c89ca8f1c1"
      },
      "execution_count": 105,
      "outputs": [
        {
          "output_type": "stream",
          "name": "stdout",
          "text": [
            "\n",
            "Remaining columns after dropping numeric ones:\n",
            "Index(['Unnamed: 0', 'Name', 'Location', 'Year', 'Kilometers_Driven',\n",
            "       'Fuel_Type', 'Transmission', 'Owner_Type', 'Mileage', 'Engine', 'Power',\n",
            "       'Seats', 'New_Price', 'Price', 'Car_Age', 'FuelType'],\n",
            "      dtype='object')\n"
          ]
        }
      ]
    },
    {
      "cell_type": "code",
      "source": [
        "# I'm selecting cars that are older than 5 years and also cost more than 5 lakhs\n",
        "filtered_cars = car_df[(car_df['Car_Age'] > 5) & (car_df['Price'] > 5)]\n",
        "\n",
        "# Just printing the top few cars that match the filter condition\n",
        "print(\"\\nCars older than 5 years and priced above 5 lakhs:\")\n",
        "print(filtered_cars.head())\n",
        "\n",
        "# Saving these filtered results into a new CSV for further analysis\n",
        "filtered_cars.to_csv(\"task_e_filtered_cars.csv\", index=False)"
      ],
      "metadata": {
        "colab": {
          "base_uri": "https://localhost:8080/"
        },
        "id": "q5mspU1bMRww",
        "outputId": "6fb6fddb-0a75-49f9-d4c1-3d1da1b545f1"
      },
      "execution_count": 124,
      "outputs": [
        {
          "output_type": "stream",
          "name": "stdout",
          "text": [
            "\n",
            "Cars older than 5 years and priced above 5 lakhs:\n",
            "   Unnamed: 0                                 Name    Location  Year  \\\n",
            "0           1     Hyundai Creta 1.6 CRDi SX Option        Pune  2015   \n",
            "2           3                    Maruti Ertiga VDI     Chennai  2012   \n",
            "3           4      Audi A4 New 2.0 TDI Multitronic  Coimbatore  2013   \n",
            "5           7    Toyota Innova Crysta 2.8 GX AT 8S      Mumbai  2016   \n",
            "6           8  Volkswagen Vento Diesel Comfortline        Pune  2013   \n",
            "\n",
            "   Kilometers_Driven Fuel_Type Transmission Owner_Type  Mileage  Engine  \\\n",
            "0              41000    Diesel       Manual      First    19.67    1582   \n",
            "2              87000    Diesel       Manual      First    20.77    1248   \n",
            "3              40670    Diesel    Automatic     Second    15.20    1968   \n",
            "5              36000    Diesel    Automatic      First    11.36    2755   \n",
            "6              64430    Diesel       Manual      First    20.54    1598   \n",
            "\n",
            "    Power  Seats  New_Price  Price  Car_Age FuelType  Price_per_Km  \\\n",
            "0  126.20    5.0        NaN  12.50       10   Diesel      0.000305   \n",
            "2   88.76    7.0        NaN   6.00       13   Diesel      0.000069   \n",
            "3  140.80    5.0        NaN  17.74       12   Diesel      0.000436   \n",
            "5  171.50    8.0        NaN  17.50        9   Diesel      0.000486   \n",
            "6  103.60    5.0        NaN   5.20       12   Diesel      0.000081   \n",
            "\n",
            "  TransmissionType  \n",
            "0           Manual  \n",
            "2           Manual  \n",
            "3        Automatic  \n",
            "5        Automatic  \n",
            "6           Manual  \n"
          ]
        }
      ]
    },
    {
      "cell_type": "code",
      "source": [
        "# I'm creating a new column to calculate price per kilometer driven\n",
        "car_df['Price_per_Km'] = car_df['Price'] / car_df['Kilometers_Driven']\n",
        "\n",
        "# Just showing a few rows to check if the new column looks correct\n",
        "print(\"\\nPrice per kilometer (Top rows):\")\n",
        "print(car_df[['Name', 'Price', 'Kilometers_Driven', 'Price_per_Km']].head())\n",
        "\n",
        "# Saving this subset to a new CSV so I can refer to it later if needed\n",
        "car_df[['Name', 'Price', 'Kilometers_Driven', 'Price_per_Km']].to_csv(\"task_e_mutate_price_per_km.csv\", index=False)\n"
      ],
      "metadata": {
        "colab": {
          "base_uri": "https://localhost:8080/"
        },
        "id": "BOXNfWrFMY7P",
        "outputId": "4586c371-2900-436f-e25f-4cbbb2dff1d3"
      },
      "execution_count": 107,
      "outputs": [
        {
          "output_type": "stream",
          "name": "stdout",
          "text": [
            "\n",
            "Price per kilometer (Top rows):\n",
            "                               Name  Price  Kilometers_Driven  Price_per_Km\n",
            "0  Hyundai Creta 1.6 CRDi SX Option  12.50              41000      0.000305\n",
            "1                      Honda Jazz V   4.50              46000      0.000098\n",
            "2                 Maruti Ertiga VDI   6.00              87000      0.000069\n",
            "3   Audi A4 New 2.0 TDI Multitronic  17.74              40670      0.000436\n",
            "4            Nissan Micra Diesel XV   3.50              86999      0.000040\n"
          ]
        }
      ]
    },
    {
      "cell_type": "code",
      "source": [
        "# I'm sorting the cars by their selling price from highest to lowest\n",
        "car_df_sorted = car_df.sort_values(by='Price', ascending=False)\n",
        "\n",
        "# Just printing the top 5 most expensive cars to check if sorting worked\n",
        "print(\"\\nTop 5 cars sorted by price (highest first):\")\n",
        "print(car_df_sorted[['Name', 'Price']].head())\n",
        "\n",
        "# Saving the sorted result to a new CSV for future use\n",
        "car_df_sorted[['Name', 'Price']].to_csv(\"task_e_sorted_by_price.csv\", index=False)\n"
      ],
      "metadata": {
        "colab": {
          "base_uri": "https://localhost:8080/"
        },
        "id": "AYhCUBqAM2kQ",
        "outputId": "8f0d07df-6099-4eb2-85f7-4debefcc5519"
      },
      "execution_count": 108,
      "outputs": [
        {
          "output_type": "stream",
          "name": "stdout",
          "text": [
            "\n",
            "Top 5 cars sorted by price (highest first):\n",
            "                                             Name   Price\n",
            "3952  Land Rover Range Rover 3.0 Diesel LWB Vogue  160.00\n",
            "5620                   Lamborghini Gallardo Coupe  120.00\n",
            "5752                       Jaguar F Type 5.0 V8 S  100.00\n",
            "1457              Land Rover Range Rover Sport SE   97.07\n",
            "1917                           BMW 7 Series 740Li   93.67\n"
          ]
        }
      ]
    },
    {
      "cell_type": "code",
      "source": [
        "# I'm grouping the cars based on their fuel type to calculate the average selling price for each type\n",
        "fuel_group_summary = car_df.groupby('FuelType')['Price'].mean().reset_index()\n",
        "\n",
        "# Just printing the average price for each fuel type to check the result\n",
        "print(\"\\nAverage price of cars grouped by fuel type:\")\n",
        "print(fuel_group_summary)\n",
        "\n",
        "# Saving the summary into a separate CSV file for reference\n",
        "fuel_group_summary.to_csv(\"task_e_groupby_fuel_summary.csv\", index=False)\n"
      ],
      "metadata": {
        "colab": {
          "base_uri": "https://localhost:8080/"
        },
        "id": "eXoK7HTAM_P1",
        "outputId": "411a30d2-729e-4610-e360-899bb3819e82"
      },
      "execution_count": 109,
      "outputs": [
        {
          "output_type": "stream",
          "name": "stdout",
          "text": [
            "\n",
            "Average price of cars grouped by fuel type:\n",
            "   FuelType      Price\n",
            "0    Diesel  12.960686\n",
            "1  Electric  12.875000\n",
            "2    Petrol   5.756688\n"
          ]
        }
      ]
    },
    {
      "cell_type": "code",
      "source": [
        "# I'm grouping the cars based on both fuel type and transmission type\n",
        "# to calculate the average price for each combination\n",
        "fuel_trans_group_summary = car_df.groupby(['Fuel_Type', 'Transmission'])['Price'].mean().reset_index()\n",
        "\n",
        "# Just printing the results to check if the average prices look good\n",
        "print(\"\\nAverage price of cars grouped by fuel type and transmission type:\")\n",
        "print(fuel_trans_group_summary)\n",
        "\n",
        "# Saving this grouped summary to a separate CSV for documentation\n",
        "fuel_trans_group_summary.to_csv(\"task_e_groupby_fuel_trans_summary.csv\", index=False)\n"
      ],
      "metadata": {
        "colab": {
          "base_uri": "https://localhost:8080/"
        },
        "id": "lXdN4ZuIObaq",
        "outputId": "592a925b-2b8a-4a2e-b889-9a9db8d0b535"
      },
      "execution_count": 111,
      "outputs": [
        {
          "output_type": "stream",
          "name": "stdout",
          "text": [
            "\n",
            "Average price of cars grouped by fuel type and transmission type:\n",
            "  Fuel_Type Transmission      Price\n",
            "0    Diesel    Automatic  24.618490\n",
            "1    Diesel       Manual   6.686462\n",
            "2  Electric    Automatic  12.875000\n",
            "3    Petrol    Automatic  11.252450\n",
            "4    Petrol       Manual   4.160803\n"
          ]
        }
      ]
    },
    {
      "cell_type": "code",
      "source": [
        "print(\"\\nMissing value count in key columns:\")\n",
        "print(car_df[['Fuel_Type', 'Transmission', 'Price']].isna().sum())\n"
      ],
      "metadata": {
        "colab": {
          "base_uri": "https://localhost:8080/"
        },
        "id": "wRZdGMndOlE1",
        "outputId": "aded8f60-7cc6-477a-b121-2e1460188d6b"
      },
      "execution_count": 113,
      "outputs": [
        {
          "output_type": "stream",
          "name": "stdout",
          "text": [
            "\n",
            "Missing value count in key columns:\n",
            "Fuel_Type       0\n",
            "Transmission    0\n",
            "Price           0\n",
            "dtype: int64\n"
          ]
        }
      ]
    },
    {
      "cell_type": "code",
      "source": [
        "# I'm removing any rows where FuelType, TransmissionType, or Price is missing\n",
        "car_df_clean = car_df.dropna(subset=['Fuel_Type', 'Transmission', 'Price'])\n"
      ],
      "metadata": {
        "id": "zI5ocvRtOpzD"
      },
      "execution_count": 115,
      "outputs": []
    },
    {
      "cell_type": "code",
      "source": [
        "# I'm grouping the data based on both fuel type and transmission type\n",
        "# to calculate the average price for each unique combination\n",
        "fuel_trans_group_summary = car_df.groupby(['Fuel_Type', 'Transmission'])['Price'].mean().reset_index()\n",
        "\n",
        "# Displaying the result so I can verify the averages are calculated correctly\n",
        "print(\"\\nAverage price grouped by fuel type and transmission type:\")\n",
        "print(fuel_trans_group_summary)\n",
        "\n",
        "# Saving this grouped summary into a separate CSV file for later use or reporting\n",
        "fuel_trans_group_summary.to_csv(\"task_e_groupby_fuel_trans_summary.csv\", index=False)\n"
      ],
      "metadata": {
        "colab": {
          "base_uri": "https://localhost:8080/"
        },
        "id": "6EMUjU6gRX-5",
        "outputId": "082066fd-6d0a-4d71-9249-a8eb68f912b5"
      },
      "execution_count": 116,
      "outputs": [
        {
          "output_type": "stream",
          "name": "stdout",
          "text": [
            "\n",
            "Average price grouped by fuel type and transmission type:\n",
            "  Fuel_Type Transmission      Price\n",
            "0    Diesel    Automatic  24.618490\n",
            "1    Diesel       Manual   6.686462\n",
            "2  Electric    Automatic  12.875000\n",
            "3    Petrol    Automatic  11.252450\n",
            "4    Petrol       Manual   4.160803\n"
          ]
        }
      ]
    },
    {
      "cell_type": "code",
      "source": [
        "print(\"Unique FuelType values:\", car_df['Fuel_Type'].unique())\n",
        "print(\"Unique TransmissionType values:\", car_df['Transmission'].unique())\n"
      ],
      "metadata": {
        "colab": {
          "base_uri": "https://localhost:8080/"
        },
        "id": "bckyzZ4iRkTR",
        "outputId": "ea32036b-fcb7-4a9f-aaca-54a0c1e0112c"
      },
      "execution_count": 118,
      "outputs": [
        {
          "output_type": "stream",
          "name": "stdout",
          "text": [
            "Unique FuelType values: ['Diesel' 'Petrol' 'Electric']\n",
            "Unique TransmissionType values: ['Manual' 'Automatic']\n"
          ]
        }
      ]
    },
    {
      "cell_type": "code",
      "source": [
        "# Clean both columns - remove extra spaces and fix capitalization\n",
        "car_df['FuelType'] = car_df['Fuel_Type'].astype(str).str.strip().str.title()\n",
        "car_df['TransmissionType'] = car_df['Transmission'].astype(str).str.strip().str.title()\n"
      ],
      "metadata": {
        "id": "d_lgYgsgRkEB"
      },
      "execution_count": 120,
      "outputs": []
    },
    {
      "cell_type": "code",
      "source": [
        "# Drop rows where any of the key columns are missing\n",
        "car_df_cleaned = car_df.dropna(subset=['Fuel_Type', 'Transmission', 'Price'])\n"
      ],
      "metadata": {
        "id": "mMG9gSORRpcn"
      },
      "execution_count": 121,
      "outputs": []
    },
    {
      "cell_type": "code",
      "source": [
        "# Grouping by both fuel type and transmission type to calculate average price\n",
        "fuel_trans_group_summary = car_df_cleaned.groupby(['FuelType', 'TransmissionType'])['Price'].mean().reset_index()\n",
        "\n",
        "# Displaying the results\n",
        "print(\"\\nAverage price grouped by fuel type and transmission type:\")\n",
        "print(fuel_trans_group_summary)\n",
        "\n",
        "# Saving the result to a CSV file\n",
        "fuel_trans_group_summary.to_csv(\"task_e_groupby_fuel_trans_summary.csv\", index=False)\n"
      ],
      "metadata": {
        "colab": {
          "base_uri": "https://localhost:8080/"
        },
        "id": "WMV2-7PORrAp",
        "outputId": "aac1a3b4-658d-4f1e-aafb-0f0940c3b7f6"
      },
      "execution_count": 122,
      "outputs": [
        {
          "output_type": "stream",
          "name": "stdout",
          "text": [
            "\n",
            "Average price grouped by fuel type and transmission type:\n",
            "   FuelType TransmissionType      Price\n",
            "0    Diesel        Automatic  24.618490\n",
            "1    Diesel           Manual   6.686462\n",
            "2  Electric        Automatic  12.875000\n",
            "3    Petrol        Automatic  11.252450\n",
            "4    Petrol           Manual   4.160803\n"
          ]
        }
      ]
    },
    {
      "cell_type": "code",
      "source": [
        "from google.colab import files\n",
        "\n",
        "# Download the full grouped CSV file\n",
        "files.download(\"task_e_groupby_fuel_trans_summary.csv\")\n"
      ],
      "metadata": {
        "colab": {
          "base_uri": "https://localhost:8080/",
          "height": 17
        },
        "id": "sYC0-Z60VyLr",
        "outputId": "59a8404e-1930-4245-b4ac-c95f219c0414"
      },
      "execution_count": 134,
      "outputs": [
        {
          "output_type": "display_data",
          "data": {
            "text/plain": [
              "<IPython.core.display.Javascript object>"
            ],
            "application/javascript": [
              "\n",
              "    async function download(id, filename, size) {\n",
              "      if (!google.colab.kernel.accessAllowed) {\n",
              "        return;\n",
              "      }\n",
              "      const div = document.createElement('div');\n",
              "      const label = document.createElement('label');\n",
              "      label.textContent = `Downloading \"${filename}\": `;\n",
              "      div.appendChild(label);\n",
              "      const progress = document.createElement('progress');\n",
              "      progress.max = size;\n",
              "      div.appendChild(progress);\n",
              "      document.body.appendChild(div);\n",
              "\n",
              "      const buffers = [];\n",
              "      let downloaded = 0;\n",
              "\n",
              "      const channel = await google.colab.kernel.comms.open(id);\n",
              "      // Send a message to notify the kernel that we're ready.\n",
              "      channel.send({})\n",
              "\n",
              "      for await (const message of channel.messages) {\n",
              "        // Send a message to notify the kernel that we're ready.\n",
              "        channel.send({})\n",
              "        if (message.buffers) {\n",
              "          for (const buffer of message.buffers) {\n",
              "            buffers.push(buffer);\n",
              "            downloaded += buffer.byteLength;\n",
              "            progress.value = downloaded;\n",
              "          }\n",
              "        }\n",
              "      }\n",
              "      const blob = new Blob(buffers, {type: 'application/binary'});\n",
              "      const a = document.createElement('a');\n",
              "      a.href = window.URL.createObjectURL(blob);\n",
              "      a.download = filename;\n",
              "      div.appendChild(a);\n",
              "      a.click();\n",
              "      div.remove();\n",
              "    }\n",
              "  "
            ]
          },
          "metadata": {}
        },
        {
          "output_type": "display_data",
          "data": {
            "text/plain": [
              "<IPython.core.display.Javascript object>"
            ],
            "application/javascript": [
              "download(\"download_80a9cefc-1840-45d7-8f64-fb401469ca07\", \"task_e_groupby_fuel_trans_summary.csv\", 193)"
            ]
          },
          "metadata": {}
        }
      ]
    }
  ]
}